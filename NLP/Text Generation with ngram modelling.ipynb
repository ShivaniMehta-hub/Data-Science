{
 "cells": [
  {
   "cell_type": "code",
   "execution_count": 3,
   "metadata": {},
   "outputs": [],
   "source": [
    "import pandas as pd"
   ]
  },
  {
   "cell_type": "code",
   "execution_count": 21,
   "metadata": {},
   "outputs": [],
   "source": [
    "sentences = list(pd.read_csv('yelp.csv')['text'])"
   ]
  },
  {
   "cell_type": "code",
   "execution_count": 22,
   "metadata": {},
   "outputs": [],
   "source": [
    "for i, s in enumerate(sentences):\n",
    "    sentences[i] = s.split()"
   ]
  },
  {
   "cell_type": "code",
   "execution_count": 6,
   "metadata": {},
   "outputs": [],
   "source": [
    "from nltk.corpus import reuters\n",
    "from nltk import bigrams, trigrams\n",
    "from collections import Counter, defaultdict"
   ]
  },
  {
   "cell_type": "code",
   "execution_count": 23,
   "metadata": {},
   "outputs": [],
   "source": [
    "# Create a placeholder for model\n",
    "model = defaultdict(lambda: defaultdict(lambda: 0))\n",
    "\n",
    "# Count frequency of co-occurance  \n",
    "for sentence in sentences:\n",
    "    for w1, w2, w3 in trigrams(sentence, pad_right=True, pad_left=True):\n",
    "        model[(w1, w2)][w3] += 1\n",
    " \n",
    "# Let's transform the counts to probabilities\n",
    "for w1_w2 in model:\n",
    "    total_count = float(sum(model[w1_w2].values()))\n",
    "    for w3 in model[w1_w2]:\n",
    "        model[w1_w2][w3] /= total_count"
   ]
  },
  {
   "cell_type": "code",
   "execution_count": 27,
   "metadata": {
    "scrolled": true
   },
   "outputs": [
    {
     "data": {
      "text/plain": [
       "{'a': 0.03571428571428571,\n",
       " 'awesome.': 0.03571428571428571,\n",
       " 'on': 0.03571428571428571,\n",
       " 'even': 0.03571428571428571,\n",
       " 'really': 0.07142857142857142,\n",
       " 'tiny': 0.03571428571428571,\n",
       " 'like...the': 0.03571428571428571,\n",
       " 'so': 0.03571428571428571,\n",
       " 'why': 0.03571428571428571,\n",
       " 'great,': 0.07142857142857142,\n",
       " 'cold.': 0.03571428571428571,\n",
       " 'astounding': 0.03571428571428571,\n",
       " 'fine': 0.03571428571428571,\n",
       " 'pretty': 0.03571428571428571,\n",
       " 'also': 0.07142857142857142,\n",
       " 'super': 0.03571428571428571,\n",
       " 'great': 0.03571428571428571,\n",
       " 'legendary': 0.03571428571428571,\n",
       " 'fantastic,': 0.03571428571428571,\n",
       " 'excellent,': 0.03571428571428571,\n",
       " 'your': 0.03571428571428571,\n",
       " 'just': 0.03571428571428571,\n",
       " 'fresh': 0.03571428571428571,\n",
       " '$2.00': 0.03571428571428571,\n",
       " 'poured,': 0.03571428571428571}"
      ]
     },
     "execution_count": 27,
     "metadata": {},
     "output_type": "execute_result"
    }
   ],
   "source": [
    "dict(model[\"beer\", \"is\"])"
   ]
  },
  {
   "cell_type": "code",
   "execution_count": 24,
   "metadata": {},
   "outputs": [
    {
     "name": "stdout",
     "output_type": "stream",
     "text": [
      "the food was served to further explore the different varieties of burgers and sandwiches help round things out, and should review the cold staff and the technician never double dipped. I found some fish tacos were the first half of it. My bf loved his, but I feel fairly certain this term loosely, as it boasts some pretty impressive looking before we hit the bong, And then i work, work, work and 5 minutes at 4pm every day = gaining tons of sauce, guac, cheese, pico, and more frothy cocktails. Unfortunately, upon return to be regulars...once you eat there. It's probably a landmark with stringent regulations on how expensive safeway is.\n"
     ]
    }
   ],
   "source": [
    "import random\n",
    "\n",
    "# starting words\n",
    "text = [\"the\", \"food\"]\n",
    "sentence_finished = False\n",
    " \n",
    "while not sentence_finished:\n",
    "    # select a random probability threshold  \n",
    "    r = random.random()\n",
    "    accumulator = .0\n",
    "\n",
    "    for word in model[tuple(text[-2:])].keys():\n",
    "        accumulator += model[tuple(text[-2:])][word]\n",
    "        # select words that are above the probability threshold\n",
    "        if accumulator >= r:\n",
    "            text.append(word)\n",
    "            break\n",
    "\n",
    "    if text[-2:] == [None, None]:\n",
    "        sentence_finished = True\n",
    "\n",
    "print (' '.join([t for t in text if t]))"
   ]
  },
  {
   "cell_type": "code",
   "execution_count": null,
   "metadata": {},
   "outputs": [],
   "source": []
  }
 ],
 "metadata": {
  "kernelspec": {
   "display_name": "Python 3",
   "language": "python",
   "name": "python3"
  },
  "language_info": {
   "codemirror_mode": {
    "name": "ipython",
    "version": 3
   },
   "file_extension": ".py",
   "mimetype": "text/x-python",
   "name": "python",
   "nbconvert_exporter": "python",
   "pygments_lexer": "ipython3",
   "version": "3.7.3"
  }
 },
 "nbformat": 4,
 "nbformat_minor": 2
}
