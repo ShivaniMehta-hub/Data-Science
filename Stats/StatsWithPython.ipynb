{
 "cells": [
  {
   "cell_type": "code",
   "execution_count": null,
   "metadata": {},
   "outputs": [],
   "source": [
    "n = int(input())\n",
    "x = sorted(list(map(int, input().split())))\n",
    "from statistics import median\n",
    "print(int(median(x[:n//2])))\n",
    "print(int(median(x)))\n",
    "print(int(median(x[(n+1)//2:])))"
   ]
  },
  {
   "cell_type": "code",
   "execution_count": null,
   "metadata": {},
   "outputs": [],
   "source": [
    "import statistics as st\n",
    "\n",
    "n = int(input())\n",
    "data = list(map(int, input().split()))\n",
    "freq = list(map(int, input().split()))\n",
    "\n",
    "s = []\n",
    "for i in range(n):\n",
    "    s += [data[i]] * freq[i]\n",
    "N = sum(freq)\n",
    "s.sort()\n",
    "\n",
    "if n%2 != 0:\n",
    "    q1 = st.median(s[:N//2])\n",
    "    q3 = st.median(s[N//2+1:])\n",
    "else:\n",
    "    q1 = st.median(s[:N//2])\n",
    "    q3 = st.median(s[N//2:])\n",
    "\n",
    "ir = round(float(q3-q1), 1)\n",
    "print(ir)"
   ]
  },
  {
   "cell_type": "markdown",
   "metadata": {},
   "source": [
    "# The ratio of boys to girls for babies born in Russia is . If there is  child born per birth, what proportion of Russian families with exactly  children will have at least  boys?\n",
    "\n",
    "Write a program to compute the answer using the above parameters. Then print your result, rounded to a scale of  decimal places (i.e.,  format)."
   ]
  },
  {
   "cell_type": "code",
   "execution_count": null,
   "metadata": {},
   "outputs": [],
   "source": [
    "# Enter your code here. Read input from STDIN. Print output to STDOUT\n",
    "\n",
    "import sys \n",
    "import math\n",
    "\n",
    "b = [float(i) for i in sys.stdin.readline().split()]\n",
    "\n",
    "def nCr(n,r):\n",
    "    f = math.factorial\n",
    "    return f(n)/( f(r) * f(n-r))\n",
    "\n",
    "pb = b[0]/(b[0]+b[1])\n",
    "pg = 1-pb\n",
    "\n",
    "n = 6\n",
    "p3b = 0 \n",
    "\n",
    "for i in range(3,n+1):\n",
    "    p3b += nCr(n,i) * (pb**i) * (pg**(n-i))\n",
    "\n",
    "print(round(p3b,3))"
   ]
  },
  {
   "cell_type": "markdown",
   "metadata": {},
   "source": [
    "# A manufacturer of metal pistons finds that, on average,  of the pistons they manufacture are rejected because they are incorrectly sized. What is the probability that a batch of  pistons will contain:\n",
    "\n",
    "No more than 2 rejects?\n",
    "At least 2  rejects?"
   ]
  },
  {
   "cell_type": "code",
   "execution_count": null,
   "metadata": {},
   "outputs": [],
   "source": [
    "import sys\n",
    "import math\n",
    "\n",
    "b = [int(i) for i in sys.stdin.readline().split()]\n",
    "def nCr(n,r):\n",
    "    f = math.factorial\n",
    "    return f(n)/( f(r) * f(n-r))\n",
    "\n",
    "pr = b[0]/100.0\n",
    "pa = 1-pr\n",
    "\n",
    "n = b[1]\n",
    "\n",
    "p2r=0\n",
    "for i in range(0,3):\n",
    "     p2r += nCr(n,i) * (pr**i) * (pa**(n-i))\n",
    "print(round(p2r,3))\n",
    "\n",
    "p2morer = 0 \n",
    "for i in range(2,n+1):\n",
    "    p2morer += nCr(n,i) * (pr**i) * (pa**(n-i))\n",
    "\n",
    "print(round(p2morer,3))\n"
   ]
  },
  {
   "cell_type": "markdown",
   "metadata": {},
   "source": [
    "# The probability that a machine produces a defective product is . What is the probability that the  defect is found during the 5th inspection?"
   ]
  },
  {
   "cell_type": "code",
   "execution_count": 25,
   "metadata": {},
   "outputs": [
    {
     "ename": "IndexError",
     "evalue": "list index out of range",
     "output_type": "error",
     "traceback": [
      "\u001b[1;31m---------------------------------------------------------------------------\u001b[0m",
      "\u001b[1;31mIndexError\u001b[0m                                Traceback (most recent call last)",
      "\u001b[1;32m<ipython-input-25-f31b910d5544>\u001b[0m in \u001b[0;36m<module>\u001b[1;34m\u001b[0m\n\u001b[0;32m      4\u001b[0m \u001b[0mb\u001b[0m \u001b[1;33m=\u001b[0m \u001b[1;33m[\u001b[0m\u001b[0mint\u001b[0m\u001b[1;33m(\u001b[0m\u001b[0mi\u001b[0m\u001b[1;33m)\u001b[0m \u001b[1;32mfor\u001b[0m \u001b[0mi\u001b[0m \u001b[1;32min\u001b[0m \u001b[0msys\u001b[0m\u001b[1;33m.\u001b[0m\u001b[0mstdin\u001b[0m\u001b[1;33m.\u001b[0m\u001b[0mread\u001b[0m\u001b[1;33m(\u001b[0m\u001b[1;33m)\u001b[0m\u001b[1;33m.\u001b[0m\u001b[0msplit\u001b[0m\u001b[1;33m(\u001b[0m\u001b[1;33m)\u001b[0m\u001b[1;33m]\u001b[0m\u001b[1;33m\u001b[0m\u001b[1;33m\u001b[0m\u001b[0m\n\u001b[0;32m      5\u001b[0m \u001b[1;33m\u001b[0m\u001b[0m\n\u001b[1;32m----> 6\u001b[1;33m \u001b[0mprob_def\u001b[0m\u001b[1;33m=\u001b[0m \u001b[0mb\u001b[0m\u001b[1;33m[\u001b[0m\u001b[1;36m0\u001b[0m\u001b[1;33m]\u001b[0m\u001b[1;33m/\u001b[0m\u001b[0mb\u001b[0m\u001b[1;33m[\u001b[0m\u001b[1;36m1\u001b[0m\u001b[1;33m]\u001b[0m\u001b[1;33m\u001b[0m\u001b[1;33m\u001b[0m\u001b[0m\n\u001b[0m\u001b[0;32m      7\u001b[0m \u001b[0mprob_notdef\u001b[0m\u001b[1;33m=\u001b[0m\u001b[1;36m1\u001b[0m\u001b[1;33m-\u001b[0m\u001b[0mprob_def\u001b[0m\u001b[1;33m\u001b[0m\u001b[1;33m\u001b[0m\u001b[0m\n\u001b[0;32m      8\u001b[0m \u001b[0mn\u001b[0m\u001b[1;33m=\u001b[0m\u001b[0mb\u001b[0m\u001b[1;33m[\u001b[0m\u001b[1;36m2\u001b[0m\u001b[1;33m]\u001b[0m\u001b[1;33m\u001b[0m\u001b[1;33m\u001b[0m\u001b[0m\n",
      "\u001b[1;31mIndexError\u001b[0m: list index out of range"
     ]
    }
   ],
   "source": [
    "# Enter your code here. Read input from STDIN. Print output to STDOUT\n",
    "import sys\n",
    "\n",
    "b = [int(i) for i in sys.stdin.read().split()]\n",
    "\n",
    "prob_def= b[0]/b[1]\n",
    "prob_notdef=1-prob_def\n",
    "n=b[2]\n",
    "\n",
    "prob1=prob_def*(prob_notdef**(n-1))\n",
    "print (prob1)"
   ]
  },
  {
   "cell_type": "markdown",
   "metadata": {},
   "source": [
    "# The probability that a machine produces a defective product is . What is the probability that the  defect is found during the first 5 inspections?"
   ]
  },
  {
   "cell_type": "code",
   "execution_count": null,
   "metadata": {},
   "outputs": [],
   "source": [
    "# Enter your code here. Read input from STDIN. Print output to STDOUT\n",
    "import sys\n",
    "import math\n",
    "b = [int(i) for i in sys.stdin.read().split()]\n",
    "\n",
    "prob_def= b[0]/b[1]\n",
    "prob_notdef=1-prob_def\n",
    "n=b[2]\n",
    "prob1=0\n",
    "def nCr(n,r):\n",
    "    f = math.factorial\n",
    "    return f(n)/( f(r) * f(n-r))\n",
    "\n",
    "for i in range(1,n+1):\n",
    "    prob1+=nCr(n,i)*(prob_def**i)*(prob_notdef**(n-i))\n",
    "print (round(prob1,3))"
   ]
  },
  {
   "cell_type": "markdown",
   "metadata": {},
   "source": [
    "# A random variable, , follows Poisson distribution with mean of 2.5. Find the probability with which the random variable  is equal to 5."
   ]
  },
  {
   "cell_type": "code",
   "execution_count": null,
   "metadata": {},
   "outputs": [],
   "source": [
    "import sys\n",
    "from math import factorial,exp\n",
    "b = [float(i) for i in sys.stdin.read().split()]\n",
    "\n",
    "mean_x=b[0]\n",
    "n=b[1]\n",
    "poisson_dist= (mean_x**n * exp(-mean_x))/factorial(n)\n",
    "print(round(poisson_dist,3))\n"
   ]
  },
  {
   "cell_type": "markdown",
   "metadata": {},
   "source": [
    "# In a certain plant, the time taken to assemble a car is a random variable, , having a normal distribution with a mean of  hours and a standard deviation of  hours. What is the probability that a car can be assembled at this plant in:\n",
    "\n",
    "Less than 19.5 hours?\n",
    "Between 20 and 22  hours?"
   ]
  },
  {
   "cell_type": "code",
   "execution_count": null,
   "metadata": {},
   "outputs": [],
   "source": [
    "import math\n",
    "mean, std = 20, 2\n",
    "cdf = lambda x: 0.5 * (1 + math.erf((x - mean) / (std * (2 ** 0.5))))\n",
    "\n",
    "# Less than 19.5\n",
    "print('{:.3f}'.format(cdf(19.5)))\n",
    "# Between 20 and 22\n",
    "print('{:.3f}'.format(cdf(22) - cdf(20)))\n"
   ]
  },
  {
   "cell_type": "markdown",
   "metadata": {},
   "source": [
    "# The final grades for a Physics exam taken by a large group of students have a mean of 70 and a standard deviation of 10 . If we can approximate the distribution of these grades by a normal distribution, what percentage of the students:\n",
    "\n",
    "Scored higher than  (i.e., have a )?\n",
    "Passed the test (i.e., have a )?\n",
    "Failed the test (i.e., have a )?"
   ]
  },
  {
   "cell_type": "code",
   "execution_count": null,
   "metadata": {},
   "outputs": [],
   "source": [
    "import math\n",
    "mean, std = 70, 10\n",
    "cdf = lambda x: 0.5 * (1 + math.erf((x - mean) / (std * (2 ** 0.5))))\n",
    "\n",
    "one=float(1-cdf(80))*100\n",
    "two=float(1-cdf(60))*100\n",
    "three=float(cdf(60))*100\n",
    "\n",
    "print(round(one,2))\n",
    "print(round(two,2))\n",
    "print(round(three,2))\n"
   ]
  },
  {
   "cell_type": "markdown",
   "metadata": {},
   "source": [
    "# A large elevator can transport a maximum of 9800 pounds. Suppose a load of cargo containing 49 boxes must be transported via the elevator. The box weight of this type of cargo follows a distribution with a mean of 205  pounds and a standard deviation of 15 pounds. Based on this information, what is the probability that all  boxes can be safely loaded into the freight elevator and transported?"
   ]
  },
  {
   "cell_type": "code",
   "execution_count": null,
   "metadata": {},
   "outputs": [],
   "source": [
    "# Enter your code here. Read input from STDIN. Print output to STDOUT\n",
    "\n",
    "import math\n",
    "\n",
    "def cdf(x, m, sd):\n",
    "    return 0.5 * (1 + math.erf((x - m)/(sd * math.sqrt(2))))\n",
    "    \n",
    "\n",
    "max_weight = 9800\n",
    "n = 49\n",
    "m = 205\n",
    "sd = 15\n",
    "\n",
    "print(\"%.4f\" % round(cdf(max_weight, n * m, math.sqrt(n) * sd), 4))"
   ]
  },
  {
   "cell_type": "markdown",
   "metadata": {},
   "source": [
    "# You have a sample of 100 values from a population with mean 500 and with standard deviation 80 . Compute the interval that covers the middle 95% of the distribution of the sample mean; Use the value of z=1.96 . Note that  is the z-score."
   ]
  },
  {
   "cell_type": "code",
   "execution_count": null,
   "metadata": {},
   "outputs": [],
   "source": [
    "samples = 100\n",
    "mean = 500\n",
    "sd = 80\n",
    "interval = .95\n",
    "z = 1.96\n",
    "\n",
    "sd_sample = sd / (samples**0.5)\n",
    "print(round(mean - sd_sample*z,2))\n",
    "print(round(mean + sd_sample*z,2))"
   ]
  },
  {
   "cell_type": "markdown",
   "metadata": {},
   "source": [
    "# Linear Regression Line"
   ]
  },
  {
   "cell_type": "code",
   "execution_count": null,
   "metadata": {},
   "outputs": [],
   "source": [
    "from sklearn import linear_model\n",
    "import numpy as np\n",
    "xl = [1, 2, 3, 4, 5]\n",
    "x = np.asarray(xl).reshape(-1, 1)\n",
    "y = [2, 1, 4, 3, 5]\n",
    "lm = linear_model.LinearRegression()\n",
    "lm.fit(x, y)\n",
    "print(lm.intercept_)\n",
    "print(lm.coef_[0])"
   ]
  },
  {
   "cell_type": "code",
   "execution_count": 6,
   "metadata": {},
   "outputs": [
    {
     "name": "stdout",
     "output_type": "stream",
     "text": [
      "Average Conversions per Employee: 2.34\n",
      "Standard Deviation of Conversions per Employee: 1.56\n",
      "Total Conversions: 234\n",
      "Total Revenues: 23400\n",
      "Total Expense: 20000\n",
      "Total Profits: 3400\n"
     ]
    }
   ],
   "source": [
    "import numpy as np\n",
    "# Call Center Simulation\n",
    "# Number of employees to simulate\n",
    "employees = 100\n",
    "# Cost per employee\n",
    "wage = 200\n",
    "# Number of independent calls per employee\n",
    "n = 50\n",
    "# Probability of success for each call\n",
    "p = 0.04\n",
    "# Revenue per call\n",
    "revenue = 100\n",
    "# Binomial random variables of call center employees\n",
    "conversions = np.random.binomial(n, p, size=employees)\n",
    "# Print some key metrics of our call center\n",
    "print('Average Conversions per Employee: ' + str(round(np.mean(conversions), 2)))\n",
    "print('Standard Deviation of Conversions per Employee: ' + str(round(np.std(conversions), 2)))\n",
    "print('Total Conversions: ' + str(np.sum(conversions)))\n",
    "print('Total Revenues: ' + str(np.sum(conversions)*revenue))\n",
    "print('Total Expense: ' + str(employees*wage))\n",
    "print('Total Profits: ' + str(np.sum(conversions)*revenue - employees*wage))"
   ]
  },
  {
   "cell_type": "markdown",
   "metadata": {},
   "source": [
    "If you run the code, you get outputs like the following (it changes from run to run because conversions is an array of binomially distributed random variables) key metrics for your call center:"
   ]
  },
  {
   "cell_type": "code",
   "execution_count": 24,
   "metadata": {},
   "outputs": [
    {
     "data": {
      "text/plain": [
       "<matplotlib.legend.Legend at 0x1c5bdcbc780>"
      ]
     },
     "execution_count": 24,
     "metadata": {},
     "output_type": "execute_result"
    },
    {
     "data": {
      "image/png": "[encoded data removed]",
      "text/plain": [
       "<Figure size 720x504 with 1 Axes>"
      ]
     },
     "metadata": {
      "needs_background": "light"
     },
     "output_type": "display_data"
    }
   ],
   "source": [
    "import numpy as np\n",
    "import matplotlib.pyplot as plt\n",
    "import seaborn as sns\n",
    "# Call Center Simulation (Higher Conversion Rate)\n",
    "# Number of employees to simulate\n",
    "employees = 100\n",
    "# Cost per employee\n",
    "wage = 200\n",
    "# Number of independent calls per employee\n",
    "n = 60\n",
    "# Probability of success for each call\n",
    "p = 0.05\n",
    "# Revenue per call\n",
    "revenue = 100\n",
    "# Binomial random variables of call center employees\n",
    "conversions = np.random.binomial(n, p, size=employees)\n",
    "profits = np.array(conversions)*revenue - employees*wage\n",
    "# Simulate 1,000 days for our call center\n",
    "# Number of days to simulate\n",
    "sims = 1000\n",
    "sim_conversions_up = [np.sum(np.random.binomial(n, p, size=employees)) for i in range(sims)]\n",
    "sim_profits_up = np.array(sim_conversions_up)*revenue - employees*wage\n",
    "# Plot and save the results as a histogram\n",
    "fig, ax = plt.subplots(figsize=(10,7))\n",
    "ax = sns.distplot(profits, bins=75, label='original call center simulation results')\n",
    "ax = sns.distplot(sim_profits_up, bins=75, label='improved call center simulation results', color='red')\n",
    "ax.set_xlabel(\"Profits\",fontsize=16)\n",
    "ax.set_ylabel(\"Frequency\",fontsize=16)\n",
    "plt.legend()"
   ]
  },
  {
   "cell_type": "code",
   "execution_count": null,
   "metadata": {},
   "outputs": [],
   "source": []
  }
 ],
 "metadata": {
  "kernelspec": {
   "display_name": "Python 3",
   "language": "python",
   "name": "python3"
  },
  "language_info": {
   "codemirror_mode": {
    "name": "ipython",
    "version": 3
   },
   "file_extension": ".py",
   "mimetype": "text/x-python",
   "name": "python",
   "nbconvert_exporter": "python",
   "pygments_lexer": "ipython3",
   "version": "3.7.3"
  }
 },
 "nbformat": 4,
 "nbformat_minor": 2
}
