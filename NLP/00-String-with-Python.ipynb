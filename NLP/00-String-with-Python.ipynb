{
 "cells": [
  {
   "cell_type": "markdown",
   "metadata": {},
   "source": [
    "## What are we going to cover\n",
    "\n",
    "<ul>\n",
    "    <li>Text Processing with standard Python libraries</li>\n",
    "    <li>Regular Expressions</li>\n",
    "    <li>Basics of NLP - Text Processing with Spacy library</li>\n",
    "    <li>Exploratory Data Analysis</li>\n",
    "    <li>Sentence Similarity via Vectorization</li>\n",
    "    <li>Text Generation</li>\n",
    "</ul>"
   ]
  },
  {
   "cell_type": "code",
   "execution_count": 3,
   "metadata": {},
   "outputs": [],
   "source": [
    "with open('cv000_29590.txt') as f:\n",
    "    text = f.read()"
   ]
  },
  {
   "cell_type": "code",
   "execution_count": 4,
   "metadata": {},
   "outputs": [
    {
     "data": {
      "text/plain": [
       "str"
      ]
     },
     "execution_count": 4,
     "metadata": {},
     "output_type": "execute_result"
    }
   ],
   "source": [
    "type(text)"
   ]
  },
  {
   "cell_type": "code",
   "execution_count": 5,
   "metadata": {},
   "outputs": [],
   "source": [
    "lines = text.split('\\n')"
   ]
  },
  {
   "cell_type": "code",
   "execution_count": 6,
   "metadata": {},
   "outputs": [],
   "source": [
    "sentence = lines[0]"
   ]
  },
  {
   "cell_type": "code",
   "execution_count": 7,
   "metadata": {},
   "outputs": [
    {
     "data": {
      "text/plain": [
       "\"films adapted from comic books have had plenty of success , whether they're about superheroes ( batman , superman , spawn ) , or geared toward kids ( casper ) or the arthouse crowd ( ghost world ) , but there's never really been a comic book like from hell before . \""
      ]
     },
     "execution_count": 7,
     "metadata": {},
     "output_type": "execute_result"
    }
   ],
   "source": [
    "sentence"
   ]
  },
  {
   "cell_type": "code",
   "execution_count": 8,
   "metadata": {},
   "outputs": [
    {
     "data": {
      "text/plain": [
       "['films',\n",
       " 'adapted',\n",
       " 'from',\n",
       " 'comic',\n",
       " 'books',\n",
       " 'have',\n",
       " 'had',\n",
       " 'plenty',\n",
       " 'of',\n",
       " 'success',\n",
       " ',',\n",
       " 'whether',\n",
       " \"they're\",\n",
       " 'about',\n",
       " 'superheroes',\n",
       " '(',\n",
       " 'batman',\n",
       " ',',\n",
       " 'superman',\n",
       " ',',\n",
       " 'spawn',\n",
       " ')',\n",
       " ',',\n",
       " 'or',\n",
       " 'geared',\n",
       " 'toward',\n",
       " 'kids',\n",
       " '(',\n",
       " 'casper',\n",
       " ')',\n",
       " 'or',\n",
       " 'the',\n",
       " 'arthouse',\n",
       " 'crowd',\n",
       " '(',\n",
       " 'ghost',\n",
       " 'world',\n",
       " ')',\n",
       " ',',\n",
       " 'but',\n",
       " \"there's\",\n",
       " 'never',\n",
       " 'really',\n",
       " 'been',\n",
       " 'a',\n",
       " 'comic',\n",
       " 'book',\n",
       " 'like',\n",
       " 'from',\n",
       " 'hell',\n",
       " 'before',\n",
       " '.']"
      ]
     },
     "execution_count": 8,
     "metadata": {},
     "output_type": "execute_result"
    }
   ],
   "source": [
    "sentence.split()"
   ]
  },
  {
   "cell_type": "code",
   "execution_count": 2,
   "metadata": {},
   "outputs": [
    {
     "data": {
      "text/plain": [
       "True"
      ]
     },
     "execution_count": 2,
     "metadata": {},
     "output_type": "execute_result"
    }
   ],
   "source": [
    "\"Batman\"[0].isupper()"
   ]
  },
  {
   "cell_type": "code",
   "execution_count": 14,
   "metadata": {},
   "outputs": [
    {
     "data": {
      "text/plain": [
       "False"
      ]
     },
     "execution_count": 14,
     "metadata": {},
     "output_type": "execute_result"
    }
   ],
   "source": [
    "\"Batm@n\".isalnum()"
   ]
  },
  {
   "cell_type": "code",
   "execution_count": 8,
   "metadata": {},
   "outputs": [
    {
     "data": {
      "text/plain": [
       "True"
      ]
     },
     "execution_count": 8,
     "metadata": {},
     "output_type": "execute_result"
    }
   ],
   "source": [
    "\"12345\".isnumeric()"
   ]
  },
  {
   "cell_type": "code",
   "execution_count": 10,
   "metadata": {},
   "outputs": [
    {
     "data": {
      "text/plain": [
       "'Superman'"
      ]
     },
     "execution_count": 10,
     "metadata": {},
     "output_type": "execute_result"
    }
   ],
   "source": [
    "\"superman\".capitalize()"
   ]
  },
  {
   "cell_type": "code",
   "execution_count": 13,
   "metadata": {},
   "outputs": [
    {
     "data": {
      "text/plain": [
       "'First-Second-Third'"
      ]
     },
     "execution_count": 13,
     "metadata": {},
     "output_type": "execute_result"
    }
   ],
   "source": [
    "\"-\".join([\"First\", \"Second\", \"Third\"])"
   ]
  },
  {
   "cell_type": "code",
   "execution_count": 11,
   "metadata": {},
   "outputs": [
    {
     "data": {
      "text/plain": [
       "828"
      ]
     },
     "execution_count": 11,
     "metadata": {},
     "output_type": "execute_result"
    }
   ],
   "source": [
    "words = []\n",
    "for s in lines:\n",
    "    words.extend(s.split(\" \"))\n",
    "len(words)"
   ]
  },
  {
   "cell_type": "code",
   "execution_count": 14,
   "metadata": {},
   "outputs": [],
   "source": [
    "count = {}\n",
    "for word in words:\n",
    "    if word in count:\n",
    "        count[word]+=1\n",
    "    else:\n",
    "        count[word] = 1"
   ]
  },
  {
   "cell_type": "code",
   "execution_count": 15,
   "metadata": {},
   "outputs": [
    {
     "data": {
      "text/plain": [
       "{'films': 1,\n",
       " 'adapted': 1,\n",
       " 'from': 8,\n",
       " 'comic': 5,\n",
       " 'books': 1,\n",
       " 'have': 2,\n",
       " 'had': 3,\n",
       " 'plenty': 1,\n",
       " 'of': 14,\n",
       " 'success': 1,\n",
       " ',': 43,\n",
       " 'whether': 1,\n",
       " \"they're\": 1,\n",
       " 'about': 4,\n",
       " 'superheroes': 1,\n",
       " '(': 18,\n",
       " 'batman': 1,\n",
       " 'superman': 1,\n",
       " 'spawn': 1,\n",
       " ')': 18,\n",
       " 'or': 3,\n",
       " 'geared': 1,\n",
       " 'toward': 1,\n",
       " 'kids': 1,\n",
       " 'casper': 1,\n",
       " 'the': 46,\n",
       " 'arthouse': 1,\n",
       " 'crowd': 1,\n",
       " 'ghost': 1,\n",
       " 'world': 2,\n",
       " 'but': 7,\n",
       " \"there's\": 1,\n",
       " 'never': 2,\n",
       " 'really': 2,\n",
       " 'been': 3,\n",
       " 'a': 15,\n",
       " 'book': 3,\n",
       " 'like': 4,\n",
       " 'hell': 2,\n",
       " 'before': 1,\n",
       " '.': 23,\n",
       " '': 26,\n",
       " 'for': 3,\n",
       " 'starters': 1,\n",
       " 'it': 6,\n",
       " 'was': 1,\n",
       " 'created': 1,\n",
       " 'by': 1,\n",
       " 'alan': 1,\n",
       " 'moore': 3,\n",
       " 'and': 20,\n",
       " 'eddie': 1,\n",
       " 'campbell': 3,\n",
       " 'who': 4,\n",
       " 'brought': 1,\n",
       " 'medium': 1,\n",
       " 'to': 15,\n",
       " 'whole': 2,\n",
       " 'new': 1,\n",
       " 'level': 1,\n",
       " 'in': 18,\n",
       " 'mid': 1,\n",
       " \"'80s\": 1,\n",
       " 'with': 4,\n",
       " '12-part': 1,\n",
       " 'series': 1,\n",
       " 'called': 2,\n",
       " 'watchmen': 1,\n",
       " 'say': 4,\n",
       " 'thoroughly': 1,\n",
       " 'researched': 1,\n",
       " 'subject': 1,\n",
       " 'jack': 2,\n",
       " 'ripper': 3,\n",
       " 'would': 1,\n",
       " 'be': 3,\n",
       " 'saying': 1,\n",
       " 'michael': 1,\n",
       " 'jackson': 1,\n",
       " 'is': 7,\n",
       " 'starting': 2,\n",
       " 'look': 1,\n",
       " 'little': 2,\n",
       " 'odd': 1,\n",
       " '\"': 6,\n",
       " 'graphic': 1,\n",
       " 'novel': 1,\n",
       " 'if': 2,\n",
       " 'you': 4,\n",
       " 'will': 1,\n",
       " 'over': 1,\n",
       " '500': 1,\n",
       " 'pages': 1,\n",
       " 'long': 1,\n",
       " 'includes': 1,\n",
       " 'nearly': 1,\n",
       " '30': 1,\n",
       " 'more': 2,\n",
       " 'that': 3,\n",
       " 'consist': 1,\n",
       " 'nothing': 1,\n",
       " 'footnotes': 1,\n",
       " 'other': 2,\n",
       " 'words': 1,\n",
       " \"don't\": 5,\n",
       " 'dismiss': 1,\n",
       " 'this': 4,\n",
       " 'film': 5,\n",
       " 'because': 2,\n",
       " 'its': 1,\n",
       " 'source': 1,\n",
       " 'can': 1,\n",
       " 'get': 2,\n",
       " 'past': 1,\n",
       " 'thing': 1,\n",
       " 'might': 1,\n",
       " 'find': 1,\n",
       " 'another': 1,\n",
       " 'stumbling': 1,\n",
       " 'block': 1,\n",
       " \"hell's\": 3,\n",
       " 'directors': 1,\n",
       " 'albert': 1,\n",
       " 'allen': 1,\n",
       " 'hughes': 2,\n",
       " 'getting': 1,\n",
       " 'brothers': 1,\n",
       " 'direct': 2,\n",
       " 'seems': 2,\n",
       " 'almost': 1,\n",
       " 'as': 2,\n",
       " 'ludicrous': 1,\n",
       " 'casting': 1,\n",
       " 'carrot': 1,\n",
       " 'top': 1,\n",
       " 'well': 1,\n",
       " 'anything': 1,\n",
       " 'riddle': 1,\n",
       " 'me': 3,\n",
       " ':': 3,\n",
       " 'better': 1,\n",
       " \"that's\": 1,\n",
       " 'set': 1,\n",
       " 'ghetto': 2,\n",
       " 'features': 1,\n",
       " 'violent': 1,\n",
       " 'street': 1,\n",
       " 'crime': 1,\n",
       " 'than': 3,\n",
       " 'mad': 1,\n",
       " 'geniuses': 1,\n",
       " 'behind': 1,\n",
       " 'menace': 1,\n",
       " 'ii': 1,\n",
       " 'society': 1,\n",
       " '?': 3,\n",
       " 'question': 1,\n",
       " 'course': 1,\n",
       " 'whitechapel': 2,\n",
       " '1888': 1,\n",
       " \"london's\": 1,\n",
       " 'east': 1,\n",
       " 'end': 2,\n",
       " \"it's\": 4,\n",
       " 'filthy': 1,\n",
       " 'sooty': 1,\n",
       " 'place': 2,\n",
       " 'where': 1,\n",
       " 'whores': 1,\n",
       " 'unfortunates': 1,\n",
       " 'are': 1,\n",
       " 'nervous': 1,\n",
       " 'mysterious': 1,\n",
       " 'psychopath': 1,\n",
       " 'has': 2,\n",
       " 'carving': 1,\n",
       " 'through': 1,\n",
       " 'their': 1,\n",
       " 'profession': 1,\n",
       " 'surgical': 1,\n",
       " 'precision': 1,\n",
       " 'when': 2,\n",
       " 'first': 2,\n",
       " 'stiff': 1,\n",
       " 'turns': 2,\n",
       " 'up': 1,\n",
       " 'copper': 1,\n",
       " 'peter': 2,\n",
       " 'godley': 1,\n",
       " 'robbie': 1,\n",
       " 'coltrane': 1,\n",
       " 'not': 2,\n",
       " 'enough': 2,\n",
       " 'calls': 1,\n",
       " 'inspector': 1,\n",
       " 'frederick': 1,\n",
       " 'abberline': 2,\n",
       " 'johnny': 1,\n",
       " 'depp': 2,\n",
       " 'blow': 1,\n",
       " 'crack': 1,\n",
       " 'case': 1,\n",
       " 'widower': 1,\n",
       " 'prophetic': 1,\n",
       " 'dreams': 1,\n",
       " 'he': 3,\n",
       " 'unsuccessfully': 1,\n",
       " 'tries': 1,\n",
       " 'quell': 1,\n",
       " 'copious': 1,\n",
       " 'amounts': 1,\n",
       " 'absinthe': 1,\n",
       " 'opium': 1,\n",
       " 'upon': 1,\n",
       " 'arriving': 1,\n",
       " 'befriends': 1,\n",
       " 'an': 3,\n",
       " 'unfortunate': 1,\n",
       " 'named': 1,\n",
       " 'mary': 1,\n",
       " 'kelly': 1,\n",
       " 'heather': 1,\n",
       " 'graham': 2,\n",
       " \"isn't\": 1,\n",
       " 'so': 3,\n",
       " 'proceeds': 1,\n",
       " 'investigate': 1,\n",
       " 'horribly': 1,\n",
       " 'gruesome': 1,\n",
       " 'crimes': 1,\n",
       " 'even': 3,\n",
       " 'police': 1,\n",
       " 'surgeon': 1,\n",
       " \"can't\": 1,\n",
       " 'stomach': 1,\n",
       " 'i': 4,\n",
       " 'think': 1,\n",
       " 'anyone': 1,\n",
       " 'needs': 1,\n",
       " 'briefed': 1,\n",
       " 'on': 1,\n",
       " \"won't\": 1,\n",
       " 'go': 1,\n",
       " 'into': 2,\n",
       " 'particulars': 1,\n",
       " 'here': 2,\n",
       " 'unique': 1,\n",
       " 'interesting': 1,\n",
       " 'theory': 1,\n",
       " 'both': 2,\n",
       " 'identity': 2,\n",
       " 'killer': 1,\n",
       " 'reasons': 1,\n",
       " 'chooses': 1,\n",
       " 'slay': 1,\n",
       " 'they': 1,\n",
       " 'bother': 1,\n",
       " 'cloaking': 1,\n",
       " 'screenwriters': 1,\n",
       " 'terry': 1,\n",
       " 'hayes': 1,\n",
       " 'vertical': 1,\n",
       " 'limit': 1,\n",
       " 'rafael': 1,\n",
       " 'yglesias': 1,\n",
       " 'les': 1,\n",
       " 'mis': 1,\n",
       " 'rables': 1,\n",
       " 'do': 1,\n",
       " 'good': 2,\n",
       " 'job': 1,\n",
       " 'keeping': 1,\n",
       " 'him': 1,\n",
       " 'hidden': 1,\n",
       " 'viewers': 1,\n",
       " 'until': 1,\n",
       " 'very': 1,\n",
       " 'funny': 1,\n",
       " 'watch': 1,\n",
       " 'locals': 1,\n",
       " 'blindly': 1,\n",
       " 'point': 1,\n",
       " 'finger': 1,\n",
       " 'blame': 1,\n",
       " 'at': 3,\n",
       " 'jews': 1,\n",
       " 'indians': 1,\n",
       " 'after': 1,\n",
       " 'all': 3,\n",
       " 'englishman': 1,\n",
       " 'could': 1,\n",
       " 'capable': 1,\n",
       " 'committing': 1,\n",
       " 'such': 1,\n",
       " 'ghastly': 1,\n",
       " 'acts': 1,\n",
       " 'ending': 1,\n",
       " 'whistling': 1,\n",
       " 'stonecutters': 1,\n",
       " 'song': 1,\n",
       " 'simpsons': 1,\n",
       " 'days': 1,\n",
       " 'holds': 1,\n",
       " 'back': 1,\n",
       " 'electric': 1,\n",
       " 'car/who': 1,\n",
       " 'made': 1,\n",
       " 'steve': 1,\n",
       " 'guttenberg': 1,\n",
       " 'star': 1,\n",
       " 'worry': 1,\n",
       " '-': 2,\n",
       " \"it'll\": 1,\n",
       " 'make': 2,\n",
       " 'sense': 1,\n",
       " 'see': 2,\n",
       " 'now': 1,\n",
       " 'onto': 1,\n",
       " 'appearance': 1,\n",
       " 'certainly': 1,\n",
       " 'dark': 1,\n",
       " 'bleak': 1,\n",
       " 'surprising': 1,\n",
       " 'how': 1,\n",
       " 'much': 1,\n",
       " 'looks': 1,\n",
       " 'tim': 1,\n",
       " 'burton': 1,\n",
       " 'planet': 1,\n",
       " 'apes': 1,\n",
       " 'did': 1,\n",
       " 'times': 1,\n",
       " 'sleepy': 1,\n",
       " 'hollow': 1,\n",
       " '2': 2,\n",
       " 'print': 1,\n",
       " 'saw': 1,\n",
       " \"wasn't\": 2,\n",
       " 'completely': 1,\n",
       " 'finished': 1,\n",
       " 'color': 1,\n",
       " 'music': 1,\n",
       " 'finalized': 1,\n",
       " 'no': 1,\n",
       " 'comments': 1,\n",
       " 'marilyn': 1,\n",
       " 'manson': 1,\n",
       " 'cinematographer': 1,\n",
       " 'deming': 1,\n",
       " 'word': 1,\n",
       " 'ably': 1,\n",
       " 'captures': 1,\n",
       " 'dreariness': 1,\n",
       " 'victorian-era': 1,\n",
       " 'london': 1,\n",
       " 'helped': 1,\n",
       " 'flashy': 1,\n",
       " 'killing': 1,\n",
       " 'scenes': 1,\n",
       " 'remind': 1,\n",
       " 'crazy': 1,\n",
       " 'flashbacks': 1,\n",
       " 'twin': 1,\n",
       " 'peaks': 1,\n",
       " 'though': 1,\n",
       " 'violence': 1,\n",
       " 'pales': 1,\n",
       " 'comparison': 1,\n",
       " 'black-and-white': 1,\n",
       " 'oscar': 1,\n",
       " 'winner': 1,\n",
       " 'martin': 1,\n",
       " \"childs'\": 1,\n",
       " 'shakespeare': 1,\n",
       " 'love': 1,\n",
       " 'production': 1,\n",
       " 'design': 1,\n",
       " 'original': 1,\n",
       " 'prague': 1,\n",
       " 'surroundings': 1,\n",
       " 'one': 1,\n",
       " 'creepy': 1,\n",
       " 'acting': 1,\n",
       " 'solid': 1,\n",
       " 'dreamy': 1,\n",
       " 'turning': 1,\n",
       " 'typically': 1,\n",
       " 'strong': 2,\n",
       " 'performance': 1,\n",
       " 'deftly': 1,\n",
       " 'handling': 1,\n",
       " 'british': 1,\n",
       " 'accent': 2,\n",
       " 'ians': 1,\n",
       " 'holm': 1,\n",
       " 'joe': 1,\n",
       " \"gould's\": 1,\n",
       " 'secret': 1,\n",
       " 'richardson': 1,\n",
       " '102': 1,\n",
       " 'dalmatians': 1,\n",
       " 'log': 1,\n",
       " 'great': 1,\n",
       " 'supporting': 1,\n",
       " 'roles': 1,\n",
       " 'big': 1,\n",
       " 'surprise': 1,\n",
       " 'cringed': 1,\n",
       " 'time': 1,\n",
       " 'she': 1,\n",
       " 'opened': 1,\n",
       " 'her': 2,\n",
       " 'mouth': 1,\n",
       " 'imagining': 1,\n",
       " 'attempt': 1,\n",
       " 'irish': 1,\n",
       " 'actually': 1,\n",
       " 'half': 1,\n",
       " 'bad': 1,\n",
       " 'however': 1,\n",
       " '00': 1,\n",
       " 'r': 1,\n",
       " 'violence/gore': 1,\n",
       " 'sexuality': 1,\n",
       " 'language': 1,\n",
       " 'drug': 1,\n",
       " 'content': 1}"
      ]
     },
     "execution_count": 15,
     "metadata": {},
     "output_type": "execute_result"
    }
   ],
   "source": [
    "count"
   ]
  },
  {
   "cell_type": "code",
   "execution_count": 17,
   "metadata": {},
   "outputs": [
    {
     "data": {
      "text/plain": [
       "['This is the first sentence',\n",
       " 'This is another sentence',\n",
       " 'This is the third sentence',\n",
       " 'This is the last sentence']"
      ]
     },
     "execution_count": 17,
     "metadata": {},
     "output_type": "execute_result"
    }
   ],
   "source": [
    "sent = \"This is the first sentence. This is another sentence. This is the third sentence. This is the last sentence\"\n",
    "sent.split(\". \")"
   ]
  },
  {
   "cell_type": "markdown",
   "metadata": {},
   "source": [
    "## Can we do better? Regular Expressions to the Rescue"
   ]
  },
  {
   "cell_type": "code",
   "execution_count": 18,
   "metadata": {},
   "outputs": [],
   "source": [
    "import re"
   ]
  },
  {
   "cell_type": "markdown",
   "metadata": {},
   "source": [
    "### This module provides regular expression matching operations.\n",
    "\n",
    "Below is a list of expressions and what they match to. \n",
    "\n",
    "| Expression | Matches With                   |\n",
    "| ---------- | -----------------------------  |\n",
    "| `abc...`   | lowercase letter               |\n",
    "| `123…`     | Digits                         |\n",
    "| `\\d`       | Any Digit                      |\n",
    "| `'\\D'`     | Any Non-digit character        |\n",
    "| `.`        | Any Character                  |\n",
    "| `\\.`       | Period                         |\n",
    "| `[abc]`    | Only a, b, or c                |\n",
    "| `\\.`       | Period                         |\n",
    "| `[abc]`    | Only a, b, or c                |\n",
    "| `[^abc]`   | Not a, b, nor c                |\n",
    "| `[a-z]`    | Characters a to z              |\n",
    "| `[0-9]`    | Numbers 0 to 9                 |\n",
    "| `\\w`       | Any Alphanumeric character     |\n",
    "| `\\W`       | Any Non-alphanumeric character |\n",
    "| `{m}`      | m Repetitions                  |\n",
    "| `{m,n}`    | m to n Repetitions             |\n",
    "| `\\*`       | Zero or more repetitions       |\n",
    "| `\\+`       | One or more repetitions        |\n",
    "| `?`        | Optional character             |\n",
    "| `\\s`       | Any Whitespace                 |\n",
    "| `\\S`       | Any Non-whitespace character   |\n",
    "| `^…$`      | Starts and ends                |\n",
    "| `(…)`      | Capture Group                  |\n"
   ]
  },
  {
   "cell_type": "code",
   "execution_count": 19,
   "metadata": {
    "scrolled": true
   },
   "outputs": [
    {
     "data": {
      "text/plain": [
       "['films',\n",
       " 'adapted',\n",
       " 'from',\n",
       " 'comic',\n",
       " 'books',\n",
       " 'have',\n",
       " 'had',\n",
       " 'plenty',\n",
       " 'of',\n",
       " 'success',\n",
       " 'whether',\n",
       " 'they',\n",
       " 're',\n",
       " 'about',\n",
       " 'superheroes',\n",
       " 'batman',\n",
       " 'superman',\n",
       " 'spawn',\n",
       " 'or',\n",
       " 'geared',\n",
       " 'toward',\n",
       " 'kids',\n",
       " 'casper',\n",
       " 'or',\n",
       " 'the',\n",
       " 'arthouse',\n",
       " 'crowd',\n",
       " 'ghost',\n",
       " 'world',\n",
       " 'but',\n",
       " 'there',\n",
       " 's',\n",
       " 'never',\n",
       " 'really',\n",
       " 'been',\n",
       " 'a',\n",
       " 'comic',\n",
       " 'book',\n",
       " 'like',\n",
       " 'from',\n",
       " 'hell',\n",
       " 'before']"
      ]
     },
     "execution_count": 19,
     "metadata": {},
     "output_type": "execute_result"
    }
   ],
   "source": [
    "re.findall('\\w+', sentence)"
   ]
  },
  {
   "cell_type": "code",
   "execution_count": 20,
   "metadata": {},
   "outputs": [
    {
     "data": {
      "text/plain": [
       "['This is the first sentence',\n",
       " 'This is another sentence',\n",
       " 'This is the third sentence',\n",
       " 'This is the last sentence']"
      ]
     },
     "execution_count": 20,
     "metadata": {},
     "output_type": "execute_result"
    }
   ],
   "source": [
    "re.split('[?.!] ', sent)"
   ]
  },
  {
   "cell_type": "code",
   "execution_count": 21,
   "metadata": {},
   "outputs": [
    {
     "data": {
      "text/plain": [
       "['+1-972-1234567', '+91-987654321']"
      ]
     },
     "execution_count": 21,
     "metadata": {},
     "output_type": "execute_result"
    }
   ],
   "source": [
    "sent = \"My phone number is +1-972-1234567. Indian number is +91-987654321\"\n",
    "phone = re.findall(\"[\\+\\-0-9]+\", sent)\n",
    "phone"
   ]
  },
  {
   "cell_type": "code",
   "execution_count": 23,
   "metadata": {},
   "outputs": [
    {
     "data": {
      "text/plain": [
       "['567846']"
      ]
     },
     "execution_count": 23,
     "metadata": {},
     "output_type": "execute_result"
    }
   ],
   "source": [
    "r_otp = \"[0-9]{6}?\"\n",
    "text = \"Your otp to login to xyz app is 567846. Go to the following link, https://xyz.co/34567\"\n",
    "otp = re.findall(r_otp, text)\n",
    "otp"
   ]
  },
  {
   "cell_type": "markdown",
   "metadata": {},
   "source": [
    "### Groups\n",
    "\n",
    "Groups of text show up everywhere.\n",
    "<ul>\n",
    "    <li>Names</li>\n",
    "    <li>Phone Numbers</li>\n",
    "    <li>Noun Phrases - \"The\" `< adjective>+` `< noun >` - For example - The funny man</li>\n",
    "</ul>"
   ]
  },
  {
   "cell_type": "code",
   "execution_count": 24,
   "metadata": {},
   "outputs": [
    {
     "name": "stdout",
     "output_type": "stream",
     "text": [
      "{'country_code': '+1', 'area_code': '972', 'number': '1234567'}\n"
     ]
    }
   ],
   "source": [
    "p = phone[0]\n",
    "print(re.match(\"(?P<country_code>[+0-9]*)-(?P<area_code>[0-9]*)-(?P<number>[0-9]*)\", p).groupdict())"
   ]
  },
  {
   "cell_type": "markdown",
   "metadata": {},
   "source": [
    "## More complicated patterns - Email IDs, URLs, etc"
   ]
  },
  {
   "cell_type": "markdown",
   "metadata": {},
   "source": [
    "## Fun Exercise\n",
    "\n",
    "Building a regular expression to test the validity of a password\n",
    "\n",
    "A valid password is one which\n",
    "<ul>\n",
    "    <li> must contains one digit</li>\n",
    "    <li>must contains one special symbols [#@!?]</li>\n",
    "    <li>must contains one upper characters</li>\n",
    "    <li>must contains one lowercase characters</li>\n",
    "    <li>length at least 6 characters and maximum of 20</li>\t\n",
    "</ul>"
   ]
  },
  {
   "cell_type": "code",
   "execution_count": 25,
   "metadata": {},
   "outputs": [
    {
     "name": "stdout",
     "output_type": "stream",
     "text": [
      "False\n",
      "True\n",
      "False\n"
     ]
    }
   ],
   "source": [
    "def is_valid(p):\n",
    "    regex = re.compile(\"(?=.*[a-z])(?=.*[A-Z])(?=.*\\d)(?=.*[@$!%*#?&])[A-Za-z\\d@$!#%*?&]{6,20}\")\n",
    "    if re.match(regex, p):\n",
    "        return True\n",
    "    return False\n",
    "\n",
    "passwords = [\"Regex123\", \"Regex@123\", \"Rr@12\"]\n",
    "for p in passwords:\n",
    "    print(is_valid(p))"
   ]
  },
  {
   "cell_type": "code",
   "execution_count": null,
   "metadata": {},
   "outputs": [],
   "source": []
  }
 ],
 "metadata": {
  "kernelspec": {
   "display_name": "Python 3",
   "language": "python",
   "name": "python3"
  },
  "language_info": {
   "codemirror_mode": {
    "name": "ipython",
    "version": 3
   },
   "file_extension": ".py",
   "mimetype": "text/x-python",
   "name": "python",
   "nbconvert_exporter": "python",
   "pygments_lexer": "ipython3",
   "version": "3.7.3"
  }
 },
 "nbformat": 4,
 "nbformat_minor": 2
}
